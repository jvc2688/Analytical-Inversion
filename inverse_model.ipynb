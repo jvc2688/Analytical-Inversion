{
 "cells": [
  {
   "cell_type": "code",
   "execution_count": null,
   "id": "b9ecd7a2",
   "metadata": {},
   "outputs": [],
   "source": []
  }
 ],
 "metadata": {
  "hide_input": false,
  "kernelspec": {
   "display_name": "R",
   "language": "R",
   "name": "ir"
  }
 },
 "nbformat": 4,
 "nbformat_minor": 5
}
